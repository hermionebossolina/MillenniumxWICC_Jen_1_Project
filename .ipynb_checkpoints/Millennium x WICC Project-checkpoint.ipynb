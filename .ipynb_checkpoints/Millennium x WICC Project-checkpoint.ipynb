{
 "cells": [
  {
   "cell_type": "markdown",
   "id": "45e0317e",
   "metadata": {},
   "source": [
    "# Millennium x WICC Project\n",
    "### Authors: Hermione Bossolina, Jasmine Samadi, Lauren Jun, Jarin Rahman\n",
    "\n",
    "**Goals:** With a goal of understanding the influx of Artificial Intelligence and Machine Learning jobs and increased salaries and its potential correlation with: Increased News Coverage and Stock prices.\n",
    "\n",
    "### Table of Contents\n",
    "- [Loading In Data](#load_data)\n",
    "- [Sentiment Analysis](#sentiment_analysis)"
   ]
  },
  {
   "cell_type": "code",
   "execution_count": 38,
   "id": "650235d9",
   "metadata": {},
   "outputs": [],
   "source": [
    "import pandas as pd\n",
    "import numpy as np\n",
    "import matplotlib.pyplot as plt"
   ]
  },
  {
   "cell_type": "markdown",
   "id": "27ef0405",
   "metadata": {},
   "source": [
    "### Loading the Data <a name = \"load_data\"></a>"
   ]
  },
  {
   "cell_type": "code",
   "execution_count": 7,
   "id": "e419614a",
   "metadata": {},
   "outputs": [],
   "source": [
    "ai_ml = pd.read_csv(\"salaries.csv\")"
   ]
  },
  {
   "cell_type": "markdown",
   "id": "315b087e",
   "metadata": {},
   "source": [
    "Looking at the head of the AI ML dataset."
   ]
  },
  {
   "cell_type": "code",
   "execution_count": 8,
   "id": "76f5a074",
   "metadata": {},
   "outputs": [
    {
     "data": {
      "text/html": [
       "<div>\n",
       "<style scoped>\n",
       "    .dataframe tbody tr th:only-of-type {\n",
       "        vertical-align: middle;\n",
       "    }\n",
       "\n",
       "    .dataframe tbody tr th {\n",
       "        vertical-align: top;\n",
       "    }\n",
       "\n",
       "    .dataframe thead th {\n",
       "        text-align: right;\n",
       "    }\n",
       "</style>\n",
       "<table border=\"1\" class=\"dataframe\">\n",
       "  <thead>\n",
       "    <tr style=\"text-align: right;\">\n",
       "      <th></th>\n",
       "      <th>work_year</th>\n",
       "      <th>experience_level</th>\n",
       "      <th>employment_type</th>\n",
       "      <th>job_title</th>\n",
       "      <th>salary</th>\n",
       "      <th>salary_currency</th>\n",
       "      <th>salary_in_usd</th>\n",
       "      <th>employee_residence</th>\n",
       "      <th>remote_ratio</th>\n",
       "      <th>company_location</th>\n",
       "      <th>company_size</th>\n",
       "    </tr>\n",
       "  </thead>\n",
       "  <tbody>\n",
       "    <tr>\n",
       "      <th>0</th>\n",
       "      <td>2023</td>\n",
       "      <td>EN</td>\n",
       "      <td>FT</td>\n",
       "      <td>Data Scientist</td>\n",
       "      <td>100000</td>\n",
       "      <td>USD</td>\n",
       "      <td>100000</td>\n",
       "      <td>US</td>\n",
       "      <td>100</td>\n",
       "      <td>US</td>\n",
       "      <td>M</td>\n",
       "    </tr>\n",
       "    <tr>\n",
       "      <th>1</th>\n",
       "      <td>2023</td>\n",
       "      <td>MI</td>\n",
       "      <td>FT</td>\n",
       "      <td>Machine Learning Engineer</td>\n",
       "      <td>45000</td>\n",
       "      <td>EUR</td>\n",
       "      <td>48585</td>\n",
       "      <td>IT</td>\n",
       "      <td>100</td>\n",
       "      <td>GB</td>\n",
       "      <td>M</td>\n",
       "    </tr>\n",
       "    <tr>\n",
       "      <th>2</th>\n",
       "      <td>2023</td>\n",
       "      <td>MI</td>\n",
       "      <td>FT</td>\n",
       "      <td>Data Analyst</td>\n",
       "      <td>142000</td>\n",
       "      <td>USD</td>\n",
       "      <td>142000</td>\n",
       "      <td>US</td>\n",
       "      <td>0</td>\n",
       "      <td>US</td>\n",
       "      <td>M</td>\n",
       "    </tr>\n",
       "    <tr>\n",
       "      <th>3</th>\n",
       "      <td>2023</td>\n",
       "      <td>MI</td>\n",
       "      <td>FT</td>\n",
       "      <td>Data Analyst</td>\n",
       "      <td>128000</td>\n",
       "      <td>USD</td>\n",
       "      <td>128000</td>\n",
       "      <td>US</td>\n",
       "      <td>0</td>\n",
       "      <td>US</td>\n",
       "      <td>M</td>\n",
       "    </tr>\n",
       "    <tr>\n",
       "      <th>4</th>\n",
       "      <td>2023</td>\n",
       "      <td>SE</td>\n",
       "      <td>FT</td>\n",
       "      <td>ETL Developer</td>\n",
       "      <td>99500</td>\n",
       "      <td>USD</td>\n",
       "      <td>99500</td>\n",
       "      <td>US</td>\n",
       "      <td>0</td>\n",
       "      <td>US</td>\n",
       "      <td>M</td>\n",
       "    </tr>\n",
       "  </tbody>\n",
       "</table>\n",
       "</div>"
      ],
      "text/plain": [
       "   work_year experience_level employment_type                  job_title  \\\n",
       "0       2023               EN              FT             Data Scientist   \n",
       "1       2023               MI              FT  Machine Learning Engineer   \n",
       "2       2023               MI              FT               Data Analyst   \n",
       "3       2023               MI              FT               Data Analyst   \n",
       "4       2023               SE              FT              ETL Developer   \n",
       "\n",
       "   salary salary_currency  salary_in_usd employee_residence  remote_ratio  \\\n",
       "0  100000             USD         100000                 US           100   \n",
       "1   45000             EUR          48585                 IT           100   \n",
       "2  142000             USD         142000                 US             0   \n",
       "3  128000             USD         128000                 US             0   \n",
       "4   99500             USD          99500                 US             0   \n",
       "\n",
       "  company_location company_size  \n",
       "0               US            M  \n",
       "1               GB            M  \n",
       "2               US            M  \n",
       "3               US            M  \n",
       "4               US            M  "
      ]
     },
     "execution_count": 8,
     "metadata": {},
     "output_type": "execute_result"
    }
   ],
   "source": [
    "ai_ml.head()"
   ]
  },
  {
   "cell_type": "code",
   "execution_count": 9,
   "id": "6a821d59",
   "metadata": {
    "scrolled": true
   },
   "outputs": [
    {
     "name": "stdout",
     "output_type": "stream",
     "text": [
      "Index(['work_year', 'experience_level', 'employment_type', 'job_title',\n",
      "       'salary', 'salary_currency', 'salary_in_usd', 'employee_residence',\n",
      "       'remote_ratio', 'company_location', 'company_size'],\n",
      "      dtype='object')\n"
     ]
    }
   ],
   "source": [
    "print(ai_ml.columns)"
   ]
  },
  {
   "cell_type": "markdown",
   "id": "bc931ece",
   "metadata": {},
   "source": [
    "To understand what is in each column\n",
    "- [Work Year](#work_year)\n",
    "- [Experience Level](#experience_level)\n",
    "- [Employment Type](#employment_type)\n",
    "- [Job Title](#job_title)\n",
    "- [Salary](#salary)\n",
    "- [Salary Currency](#salary_currency)"
   ]
  },
  {
   "cell_type": "code",
   "execution_count": 10,
   "id": "abf24fcf",
   "metadata": {},
   "outputs": [
    {
     "data": {
      "text/plain": [
       "0       USD\n",
       "1       EUR\n",
       "2       USD\n",
       "3       USD\n",
       "4       USD\n",
       "       ... \n",
       "7361    USD\n",
       "7362    USD\n",
       "7363    USD\n",
       "7364    USD\n",
       "7365    INR\n",
       "Name: salary_currency, Length: 7366, dtype: object"
      ]
     },
     "execution_count": 10,
     "metadata": {},
     "output_type": "execute_result"
    }
   ],
   "source": [
    "ai_ml['salary_currency']"
   ]
  },
  {
   "cell_type": "code",
   "execution_count": 11,
   "id": "1451ec48",
   "metadata": {},
   "outputs": [
    {
     "ename": "AttributeError",
     "evalue": "module 'numpy' has no attribute 'table'",
     "output_type": "error",
     "traceback": [
      "\u001b[0;31m---------------------------------------------------------------------------\u001b[0m",
      "\u001b[0;31mAttributeError\u001b[0m                            Traceback (most recent call last)",
      "\u001b[0;32m/var/folders/yn/3n1g6x553tb8q2xt8dkll0cr0000gn/T/ipykernel_37663/2615309878.py\u001b[0m in \u001b[0;36m<module>\u001b[0;34m\u001b[0m\n\u001b[0;32m----> 1\u001b[0;31m \u001b[0mnp\u001b[0m\u001b[0;34m.\u001b[0m\u001b[0mtable\u001b[0m\u001b[0;34m(\u001b[0m\u001b[0mai_ml\u001b[0m\u001b[0;34m[\u001b[0m\u001b[0;34m'salary_currency'\u001b[0m\u001b[0;34m]\u001b[0m\u001b[0;34m)\u001b[0m\u001b[0;34m\u001b[0m\u001b[0;34m\u001b[0m\u001b[0m\n\u001b[0m",
      "\u001b[0;32m~/opt/anaconda3/lib/python3.9/site-packages/numpy/__init__.py\u001b[0m in \u001b[0;36m__getattr__\u001b[0;34m(attr)\u001b[0m\n\u001b[1;32m    331\u001b[0m             \u001b[0;32mraise\u001b[0m \u001b[0mRuntimeError\u001b[0m\u001b[0;34m(\u001b[0m\u001b[0;34m\"Tester was removed in NumPy 1.25.\"\u001b[0m\u001b[0;34m)\u001b[0m\u001b[0;34m\u001b[0m\u001b[0;34m\u001b[0m\u001b[0m\n\u001b[1;32m    332\u001b[0m \u001b[0;34m\u001b[0m\u001b[0m\n\u001b[0;32m--> 333\u001b[0;31m         raise AttributeError(\"module {!r} has no attribute \"\n\u001b[0m\u001b[1;32m    334\u001b[0m                              \"{!r}\".format(__name__, attr))\n\u001b[1;32m    335\u001b[0m \u001b[0;34m\u001b[0m\u001b[0m\n",
      "\u001b[0;31mAttributeError\u001b[0m: module 'numpy' has no attribute 'table'"
     ]
    }
   ],
   "source": [
    "np.table(ai_ml['salary_currency'])"
   ]
  },
  {
   "cell_type": "code",
   "execution_count": 12,
   "id": "05feb558",
   "metadata": {},
   "outputs": [
    {
     "data": {
      "text/plain": [
       "salary_currency\n",
       "USD    6640\n",
       "EUR     308\n",
       "GBP     278\n",
       "INR      50\n",
       "CAD      35\n",
       "AUD      10\n",
       "PLN       7\n",
       "SGD       6\n",
       "CHF       5\n",
       "BRL       4\n",
       "JPY       4\n",
       "DKK       3\n",
       "TRY       3\n",
       "HUF       3\n",
       "THB       2\n",
       "NOK       2\n",
       "ILS       1\n",
       "HKD       1\n",
       "ZAR       1\n",
       "PHP       1\n",
       "MXN       1\n",
       "CLP       1\n",
       "Name: count, dtype: int64"
      ]
     },
     "execution_count": 12,
     "metadata": {},
     "output_type": "execute_result"
    }
   ],
   "source": [
    "ai_ml.salary_currency.value_counts()"
   ]
  },
  {
   "cell_type": "code",
   "execution_count": 13,
   "id": "1412cad1",
   "metadata": {
    "scrolled": true
   },
   "outputs": [
    {
     "data": {
      "text/plain": [
       "0       100000\n",
       "1        48585\n",
       "2       142000\n",
       "3       128000\n",
       "4        99500\n",
       "         ...  \n",
       "7361    412000\n",
       "7362    151000\n",
       "7363    105000\n",
       "7364    100000\n",
       "7365     94665\n",
       "Name: salary_in_usd, Length: 7366, dtype: int64"
      ]
     },
     "execution_count": 13,
     "metadata": {},
     "output_type": "execute_result"
    }
   ],
   "source": [
    "ai_ml['salary_in_usd']"
   ]
  },
  {
   "cell_type": "markdown",
   "id": "6e5edc2b",
   "metadata": {},
   "source": [
    "## Here we filtered so that we are only looking at salaires in the United States "
   ]
  },
  {
   "cell_type": "code",
   "execution_count": 14,
   "id": "cbca053f",
   "metadata": {},
   "outputs": [],
   "source": [
    "filtered_df = ai_ml[ai_ml['salary_currency'] == 'USD']"
   ]
  },
  {
   "cell_type": "code",
   "execution_count": 15,
   "id": "25c68e0c",
   "metadata": {},
   "outputs": [
    {
     "data": {
      "text/html": [
       "<div>\n",
       "<style scoped>\n",
       "    .dataframe tbody tr th:only-of-type {\n",
       "        vertical-align: middle;\n",
       "    }\n",
       "\n",
       "    .dataframe tbody tr th {\n",
       "        vertical-align: top;\n",
       "    }\n",
       "\n",
       "    .dataframe thead th {\n",
       "        text-align: right;\n",
       "    }\n",
       "</style>\n",
       "<table border=\"1\" class=\"dataframe\">\n",
       "  <thead>\n",
       "    <tr style=\"text-align: right;\">\n",
       "      <th></th>\n",
       "      <th>work_year</th>\n",
       "      <th>experience_level</th>\n",
       "      <th>employment_type</th>\n",
       "      <th>job_title</th>\n",
       "      <th>salary</th>\n",
       "      <th>salary_currency</th>\n",
       "      <th>salary_in_usd</th>\n",
       "      <th>employee_residence</th>\n",
       "      <th>remote_ratio</th>\n",
       "      <th>company_location</th>\n",
       "      <th>company_size</th>\n",
       "    </tr>\n",
       "  </thead>\n",
       "  <tbody>\n",
       "    <tr>\n",
       "      <th>0</th>\n",
       "      <td>2023</td>\n",
       "      <td>EN</td>\n",
       "      <td>FT</td>\n",
       "      <td>Data Scientist</td>\n",
       "      <td>100000</td>\n",
       "      <td>USD</td>\n",
       "      <td>100000</td>\n",
       "      <td>US</td>\n",
       "      <td>100</td>\n",
       "      <td>US</td>\n",
       "      <td>M</td>\n",
       "    </tr>\n",
       "    <tr>\n",
       "      <th>2</th>\n",
       "      <td>2023</td>\n",
       "      <td>MI</td>\n",
       "      <td>FT</td>\n",
       "      <td>Data Analyst</td>\n",
       "      <td>142000</td>\n",
       "      <td>USD</td>\n",
       "      <td>142000</td>\n",
       "      <td>US</td>\n",
       "      <td>0</td>\n",
       "      <td>US</td>\n",
       "      <td>M</td>\n",
       "    </tr>\n",
       "    <tr>\n",
       "      <th>3</th>\n",
       "      <td>2023</td>\n",
       "      <td>MI</td>\n",
       "      <td>FT</td>\n",
       "      <td>Data Analyst</td>\n",
       "      <td>128000</td>\n",
       "      <td>USD</td>\n",
       "      <td>128000</td>\n",
       "      <td>US</td>\n",
       "      <td>0</td>\n",
       "      <td>US</td>\n",
       "      <td>M</td>\n",
       "    </tr>\n",
       "    <tr>\n",
       "      <th>4</th>\n",
       "      <td>2023</td>\n",
       "      <td>SE</td>\n",
       "      <td>FT</td>\n",
       "      <td>ETL Developer</td>\n",
       "      <td>99500</td>\n",
       "      <td>USD</td>\n",
       "      <td>99500</td>\n",
       "      <td>US</td>\n",
       "      <td>0</td>\n",
       "      <td>US</td>\n",
       "      <td>M</td>\n",
       "    </tr>\n",
       "    <tr>\n",
       "      <th>5</th>\n",
       "      <td>2023</td>\n",
       "      <td>SE</td>\n",
       "      <td>FT</td>\n",
       "      <td>ETL Developer</td>\n",
       "      <td>53300</td>\n",
       "      <td>USD</td>\n",
       "      <td>53300</td>\n",
       "      <td>US</td>\n",
       "      <td>0</td>\n",
       "      <td>US</td>\n",
       "      <td>M</td>\n",
       "    </tr>\n",
       "    <tr>\n",
       "      <th>...</th>\n",
       "      <td>...</td>\n",
       "      <td>...</td>\n",
       "      <td>...</td>\n",
       "      <td>...</td>\n",
       "      <td>...</td>\n",
       "      <td>...</td>\n",
       "      <td>...</td>\n",
       "      <td>...</td>\n",
       "      <td>...</td>\n",
       "      <td>...</td>\n",
       "      <td>...</td>\n",
       "    </tr>\n",
       "    <tr>\n",
       "      <th>7360</th>\n",
       "      <td>2021</td>\n",
       "      <td>SE</td>\n",
       "      <td>FT</td>\n",
       "      <td>Data Specialist</td>\n",
       "      <td>165000</td>\n",
       "      <td>USD</td>\n",
       "      <td>165000</td>\n",
       "      <td>US</td>\n",
       "      <td>100</td>\n",
       "      <td>US</td>\n",
       "      <td>L</td>\n",
       "    </tr>\n",
       "    <tr>\n",
       "      <th>7361</th>\n",
       "      <td>2020</td>\n",
       "      <td>SE</td>\n",
       "      <td>FT</td>\n",
       "      <td>Data Scientist</td>\n",
       "      <td>412000</td>\n",
       "      <td>USD</td>\n",
       "      <td>412000</td>\n",
       "      <td>US</td>\n",
       "      <td>100</td>\n",
       "      <td>US</td>\n",
       "      <td>L</td>\n",
       "    </tr>\n",
       "    <tr>\n",
       "      <th>7362</th>\n",
       "      <td>2021</td>\n",
       "      <td>MI</td>\n",
       "      <td>FT</td>\n",
       "      <td>Principal Data Scientist</td>\n",
       "      <td>151000</td>\n",
       "      <td>USD</td>\n",
       "      <td>151000</td>\n",
       "      <td>US</td>\n",
       "      <td>100</td>\n",
       "      <td>US</td>\n",
       "      <td>L</td>\n",
       "    </tr>\n",
       "    <tr>\n",
       "      <th>7363</th>\n",
       "      <td>2020</td>\n",
       "      <td>EN</td>\n",
       "      <td>FT</td>\n",
       "      <td>Data Scientist</td>\n",
       "      <td>105000</td>\n",
       "      <td>USD</td>\n",
       "      <td>105000</td>\n",
       "      <td>US</td>\n",
       "      <td>100</td>\n",
       "      <td>US</td>\n",
       "      <td>S</td>\n",
       "    </tr>\n",
       "    <tr>\n",
       "      <th>7364</th>\n",
       "      <td>2020</td>\n",
       "      <td>EN</td>\n",
       "      <td>CT</td>\n",
       "      <td>Business Data Analyst</td>\n",
       "      <td>100000</td>\n",
       "      <td>USD</td>\n",
       "      <td>100000</td>\n",
       "      <td>US</td>\n",
       "      <td>100</td>\n",
       "      <td>US</td>\n",
       "      <td>L</td>\n",
       "    </tr>\n",
       "  </tbody>\n",
       "</table>\n",
       "<p>6640 rows × 11 columns</p>\n",
       "</div>"
      ],
      "text/plain": [
       "      work_year experience_level employment_type                 job_title  \\\n",
       "0          2023               EN              FT            Data Scientist   \n",
       "2          2023               MI              FT              Data Analyst   \n",
       "3          2023               MI              FT              Data Analyst   \n",
       "4          2023               SE              FT             ETL Developer   \n",
       "5          2023               SE              FT             ETL Developer   \n",
       "...         ...              ...             ...                       ...   \n",
       "7360       2021               SE              FT           Data Specialist   \n",
       "7361       2020               SE              FT            Data Scientist   \n",
       "7362       2021               MI              FT  Principal Data Scientist   \n",
       "7363       2020               EN              FT            Data Scientist   \n",
       "7364       2020               EN              CT     Business Data Analyst   \n",
       "\n",
       "      salary salary_currency  salary_in_usd employee_residence  remote_ratio  \\\n",
       "0     100000             USD         100000                 US           100   \n",
       "2     142000             USD         142000                 US             0   \n",
       "3     128000             USD         128000                 US             0   \n",
       "4      99500             USD          99500                 US             0   \n",
       "5      53300             USD          53300                 US             0   \n",
       "...      ...             ...            ...                ...           ...   \n",
       "7360  165000             USD         165000                 US           100   \n",
       "7361  412000             USD         412000                 US           100   \n",
       "7362  151000             USD         151000                 US           100   \n",
       "7363  105000             USD         105000                 US           100   \n",
       "7364  100000             USD         100000                 US           100   \n",
       "\n",
       "     company_location company_size  \n",
       "0                  US            M  \n",
       "2                  US            M  \n",
       "3                  US            M  \n",
       "4                  US            M  \n",
       "5                  US            M  \n",
       "...               ...          ...  \n",
       "7360               US            L  \n",
       "7361               US            L  \n",
       "7362               US            L  \n",
       "7363               US            S  \n",
       "7364               US            L  \n",
       "\n",
       "[6640 rows x 11 columns]"
      ]
     },
     "execution_count": 15,
     "metadata": {},
     "output_type": "execute_result"
    }
   ],
   "source": [
    "filtered_df"
   ]
  },
  {
   "cell_type": "code",
   "execution_count": 18,
   "id": "eea7f870",
   "metadata": {},
   "outputs": [
    {
     "data": {
      "text/plain": [
       "array([[<AxesSubplot:title={'center':'work_year'}>,\n",
       "        <AxesSubplot:title={'center':'salary'}>],\n",
       "       [<AxesSubplot:title={'center':'salary_in_usd'}>,\n",
       "        <AxesSubplot:title={'center':'remote_ratio'}>]], dtype=object)"
      ]
     },
     "execution_count": 18,
     "metadata": {},
     "output_type": "execute_result"
    },
    {
     "data": {
      "image/png": "[encoded data removed]",
      "text/plain": [
       "<Figure size 640x480 with 4 Axes>"
      ]
     },
     "metadata": {},
     "output_type": "display_data"
    }
   ],
   "source": [
    "filtered_df.hist()"
   ]
  },
  {
   "cell_type": "markdown",
   "id": "774d492a",
   "metadata": {},
   "source": [
    "### look more into work year \n",
    "#look at the company size and salary\n",
    "#look at article headings vs changes in AI/ML vs stock changes "
   ]
  },
  {
   "cell_type": "code",
   "execution_count": null,
   "id": "7f71aeaf",
   "metadata": {},
   "outputs": [],
   "source": [
    "## look more into work year - scatterplot of each year and salaries \n",
    "#look at the company size and salary\n",
    "#look at article headings vs changes in AI/ML vs stock changes\n",
    "#look at russle mid cap index "
   ]
  },
  {
   "cell_type": "code",
   "execution_count": 32,
   "id": "c49dfa85",
   "metadata": {},
   "outputs": [
    {
     "name": "stdout",
     "output_type": "stream",
     "text": [
      "40\n"
     ]
    }
   ],
   "source": [
    "print(len(filtered_df[filtered_df['work_year'] == 2020]))\n"
   ]
  },
  {
   "cell_type": "code",
   "execution_count": 33,
   "id": "83b20ec6",
   "metadata": {},
   "outputs": [
    {
     "name": "stdout",
     "output_type": "stream",
     "text": [
      "119\n"
     ]
    }
   ],
   "source": [
    "print(len(filtered_df[filtered_df['work_year'] == 2021]))"
   ]
  },
  {
   "cell_type": "code",
   "execution_count": 34,
   "id": "b8f9e0f7",
   "metadata": {},
   "outputs": [
    {
     "name": "stdout",
     "output_type": "stream",
     "text": [
      "1410\n"
     ]
    }
   ],
   "source": [
    "print(len(filtered_df[filtered_df['work_year'] == 2022]))"
   ]
  },
  {
   "cell_type": "code",
   "execution_count": 31,
   "id": "e9a71fbe",
   "metadata": {},
   "outputs": [
    {
     "name": "stdout",
     "output_type": "stream",
     "text": [
      "5071\n"
     ]
    }
   ],
   "source": [
    "print(len(filtered_df[filtered_df['work_year'] == 2023]))\n"
   ]
  },
  {
   "cell_type": "code",
   "execution_count": 26,
   "id": "f768e078",
   "metadata": {},
   "outputs": [
    {
     "name": "stdout",
     "output_type": "stream",
     "text": [
      "      work_year experience_level employment_type                  job_title  \\\n",
      "0          2023               EN              FT             Data Scientist   \n",
      "2          2023               MI              FT               Data Analyst   \n",
      "3          2023               MI              FT               Data Analyst   \n",
      "4          2023               SE              FT              ETL Developer   \n",
      "5          2023               SE              FT              ETL Developer   \n",
      "...         ...              ...             ...                        ...   \n",
      "5466       2023               SE              FT  Machine Learning Engineer   \n",
      "5467       2023               MI              FT             Data Scientist   \n",
      "5468       2023               MI              FT             Data Scientist   \n",
      "5469       2023               EN              FT              Data Engineer   \n",
      "5470       2023               EN              FT              Data Engineer   \n",
      "\n",
      "      salary salary_currency  salary_in_usd employee_residence  remote_ratio  \\\n",
      "0     100000             USD         100000                 US           100   \n",
      "2     142000             USD         142000                 US             0   \n",
      "3     128000             USD         128000                 US             0   \n",
      "4      99500             USD          99500                 US             0   \n",
      "5      53300             USD          53300                 US             0   \n",
      "...      ...             ...            ...                ...           ...   \n",
      "5466  134500             USD         134500                 US             0   \n",
      "5467  130000             USD         130000                 US             0   \n",
      "5468   90000             USD          90000                 US             0   \n",
      "5469  160000             USD         160000                 US             0   \n",
      "5470  135000             USD         135000                 US             0   \n",
      "\n",
      "     company_location company_size  \n",
      "0                  US            M  \n",
      "2                  US            M  \n",
      "3                  US            M  \n",
      "4                  US            M  \n",
      "5                  US            M  \n",
      "...               ...          ...  \n",
      "5466               US            L  \n",
      "5467               US            M  \n",
      "5468               US            M  \n",
      "5469               US            M  \n",
      "5470               US            M  \n",
      "\n",
      "[5071 rows x 11 columns]\n"
     ]
    }
   ],
   "source": [
    "print(filtered_df[filtered_df['work_year'] == 2023])"
   ]
  },
  {
   "cell_type": "code",
   "execution_count": 42,
   "id": "0d44a28c",
   "metadata": {},
   "outputs": [
    {
     "data": {
      "image/png": "[encoded data removed]",
      "text/plain": [
       "<Figure size 640x480 with 1 Axes>"
      ]
     },
     "metadata": {},
     "output_type": "display_data"
    }
   ],
   "source": [
    "#now we will filter to only contains the year and the salaries so that we can do data exploration\n",
    "new_filtered_year = filtered_df[['work_year', 'salary_in_usd']]\n",
    "year_2020_df = filtered_df[filtered_df['work_year'] == 2020]\n",
    "\n",
    "#create sub dfs for 202 and the salaries in 2020\n",
    "salaries_2020 = year_2020_df['salary_in_usd']\n",
    "work_year_2020 = year_2020_df['work_year']\n",
    "plt.scatter(work_year_2020, salaries_2020)\n",
    "\n",
    "# Add labels and title\n",
    "plt.xlabel('Year')\n",
    "plt.ylabel('salary_in_usd')\n",
    "plt.title('Salaries in the year 2020')\n",
    "\n",
    "# Show plot\n",
    "plt.show()"
   ]
  },
  {
   "cell_type": "code",
   "execution_count": 50,
   "id": "4818db05",
   "metadata": {},
   "outputs": [
    {
     "data": {
      "text/plain": [
       "<AxesSubplot:title={'center':'salary_in_usd'}, xlabel='work_year'>"
      ]
     },
     "execution_count": 50,
     "metadata": {},
     "output_type": "execute_result"
    },
    {
     "data": {
      "image/png": "[encoded data removed]",
      "text/plain": [
       "<Figure size 640x480 with 1 Axes>"
      ]
     },
     "metadata": {},
     "output_type": "display_data"
    }
   ],
   "source": [
    "filtered_df.boxplot(by ='work_year', column =['salary_in_usd'], grid = False)"
   ]
  },
  {
   "cell_type": "code",
   "execution_count": null,
   "id": "ccb7c7f5",
   "metadata": {},
   "outputs": [],
   "source": []
  },
  {
   "cell_type": "code",
   "execution_count": null,
   "id": "6091d22c",
   "metadata": {},
   "outputs": [],
   "source": []
  },
  {
   "cell_type": "markdown",
   "id": "c34f0835",
   "metadata": {},
   "source": [
    "### Sentiment Analysis <a name = \"sentiment_analysis\"></a>"
   ]
  }
 ],
 "metadata": {
  "kernelspec": {
   "display_name": "Python 3 (ipykernel)",
   "language": "python",
   "name": "python3"
  },
  "language_info": {
   "codemirror_mode": {
    "name": "ipython",
    "version": 3
   },
   "file_extension": ".py",
   "mimetype": "text/x-python",
   "name": "python",
   "nbconvert_exporter": "python",
   "pygments_lexer": "ipython3",
   "version": "3.9.13"
  }
 },
 "nbformat": 4,
 "nbformat_minor": 5
}
