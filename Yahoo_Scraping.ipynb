{
 "cells": [
  {
   "cell_type": "code",
   "execution_count": 16,
   "id": "84c2b542",
   "metadata": {},
   "outputs": [],
   "source": [
    "# this is web scraping for yahoo articles that have the term \"ai\" in it\n",
    "import re\n",
    "import csv\n",
    "from time import sleep\n",
    "from bs4 import BeautifulSoup\n",
    "import requests\n",
    "\n",
    "# make this for da url template\n",
    "template = 'https://news.search.yahoo.com/search?p={}'\n",
    "headers = {\n",
    "    'accept': '*/*',\n",
    "    'accept-encoding': 'gzip, deflate, br',\n",
    "    'accept-language': 'en-US,en;q=0.9',\n",
    "    'referer': 'https://www.google.com',\n",
    "    'user-agent': 'Mozilla/5.0 (Windows NT 10.0; Win64; x64) AppleWebKit/537.36 (KHTML, like Gecko) Chrome/85.0.4183.83 Safari/537.36 Edg/85.0.564.44'\n",
    "}"
   ]
  },
  {
   "cell_type": "code",
   "execution_count": 17,
   "id": "7a8fb683",
   "metadata": {},
   "outputs": [],
   "source": [
    "# this is for extracting articles\n",
    "def get_article(card):\n",
    "    headline = card.find('h4', 's-title').text\n",
    "    source = card.find('span', 's-source').text\n",
    "    posted = card.find('span', 's-time').text.replace('.', '').strip()\n",
    "    description = card.find('p', 's-desc').text.strip()\n",
    "    raw_link = card.find('a').get('href')\n",
    "    unquoted_link = requests.utils.unquote(raw_link)\n",
    "    pattern = re.compile(r'RU=(.+)\\/RK')\n",
    "    clear_link = re.search(pattern, unquoted_link).group(1)\n",
    "    article = (headline, source, posted, description, clear_link)\n",
    "    return article"
   ]
  },
  {
   "cell_type": "code",
   "execution_count": 18,
   "id": "ba7bf1cb",
   "metadata": {},
   "outputs": [],
   "source": [
    "# this is the function to scrape Yahoo news for articles for ai\n",
    "def get_ai_articles():\n",
    "    articles = []\n",
    "    links = set()\n",
    "    search_query = 'AI'  # Change this to the keyword you want to search for\n",
    "\n",
    "    url = template.format(search_query)\n",
    "\n",
    "    while True:\n",
    "        response = requests.get(url, headers=headers)\n",
    "        soup = BeautifulSoup(response.text, 'lxml')\n",
    "        cards = soup.find_all('div', 'NewsArticle')\n",
    "    \n",
    "    for card in cards:\n",
    "        article = get_article(card)\n",
    "        link = article[-1]\n",
    "\n",
    "        if link not in links:\n",
    "            links.add(link)\n",
    "            articles.append(article)\n",
    "            \n",
    "        try:\n",
    "            url = soup.find('a', 'next').get('href')\n",
    "            sleep(2)  # Sleep to avoid being seen as a bot\n",
    "        except AttributeError:\n",
    "            break\n",
    "            \n",
    "        with open('ai_articles.csv', 'w', newline='', encoding='utf-8') as f:\n",
    "            writer = csv.writer(f)\n",
    "            writer.writerow(['Headline', 'Source', 'Posted', 'Description', 'Link'])\n",
    "            writer.writerows(articles)\n",
    "\n",
    "        return articles"
   ]
  },
  {
   "cell_type": "code",
   "execution_count": null,
   "id": "5ce88af2",
   "metadata": {
    "scrolled": true
   },
   "outputs": [],
   "source": [
    "# scrape the yahoo news for articles with ai\n",
    "ai_articles = get_ai_articles()\n",
    "print(len(ai_articles))  # print num of articles collected"
   ]
  },
  {
   "cell_type": "code",
   "execution_count": null,
   "id": "10931d6d",
   "metadata": {},
   "outputs": [],
   "source": [
    "#articles = get_the_news('brexit')"
   ]
  },
  {
   "cell_type": "code",
   "execution_count": null,
   "id": "fd1d0499",
   "metadata": {},
   "outputs": [],
   "source": [
    "#print(len(articles)) # 335"
   ]
  },
  {
   "cell_type": "code",
   "execution_count": null,
   "id": "d6d25f71",
   "metadata": {},
   "outputs": [],
   "source": []
  }
 ],
 "metadata": {
  "kernelspec": {
   "display_name": "Python 3",
   "language": "python",
   "name": "python3"
  },
  "language_info": {
   "codemirror_mode": {
    "name": "ipython",
    "version": 3
   },
   "file_extension": ".py",
   "mimetype": "text/x-python",
   "name": "python",
   "nbconvert_exporter": "python",
   "pygments_lexer": "ipython3",
   "version": "3.8.8"
  }
 },
 "nbformat": 4,
 "nbformat_minor": 5
}
